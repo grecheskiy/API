{
 "cells": [
  {
   "cell_type": "code",
   "execution_count": 6,
   "metadata": {},
   "outputs": [],
   "source": [
    "import requests\n",
    "import json"
   ]
  },
  {
   "cell_type": "code",
   "execution_count": 4,
   "metadata": {},
   "outputs": [
    {
     "name": "stdout",
     "output_type": "stream",
     "text": [
      "Успешный запрос!\n",
      "{\n",
      "  \"userId\": 1,\n",
      "  \"id\": 1,\n",
      "  \"title\": \"sunt aut facere repellat provident occaecati excepturi optio reprehenderit\",\n",
      "  \"body\": \"quia et suscipit\\nsuscipit recusandae consequuntur expedita et cum\\nreprehenderit molestiae ut ut quas totam\\nnostrum rerum est autem sunt rem eveniet architecto\"\n",
      "}\n"
     ]
    }
   ],
   "source": [
    "# отправка GET-запроса на конечную точку REST API\n",
    "response = requests.get(\"https://jsonplaceholder.typicode.com/posts/1\")\n",
    "\n",
    "# проверка успешности выполнения запроса\n",
    "if response.status_code == 200:\n",
    "    print(\"Успешный запрос!\")\n",
    "    # вывод текста ответа\n",
    "    print(response.text)\n",
    "else:\n",
    "    print(\"Запрос не удался с кодом состояния:\", response.status_code)"
   ]
  },
  {
   "cell_type": "code",
   "execution_count": 7,
   "metadata": {},
   "outputs": [
    {
     "name": "stdout",
     "output_type": "stream",
     "text": [
      "Успешный запрос!\n",
      "{\n",
      "  \"title\": \"GeekBrains\",\n",
      "  \"body\": \"Scraping\",\n",
      "  \"userId\": 1,\n",
      "  \"id\": 101\n",
      "}\n"
     ]
    }
   ],
   "source": [
    "# отправка POST-запроса на конечную точку REST API\n",
    "data = {\n",
    "    \"title\": \"GeekBrains\",\n",
    "    \"body\": \"Scraping\",\n",
    "    \"userId\": 1\n",
    "}\n",
    "response = requests.post(\"https://jsonplaceholder.typicode.com/posts\", json=data)\n",
    "\n",
    "# проверка успешности выполнения запроса\n",
    "if response.status_code == 201:\n",
    "    print(\"Успешный запрос!\")\n",
    "    # вывод текста ответа\n",
    "    print(response.text)\n",
    "else:\n",
    "    print(\"Запрос не удался с кодом состояния:\", response.status_code)"
   ]
  },
  {
   "cell_type": "code",
   "execution_count": 5,
   "metadata": {},
   "outputs": [
    {
     "name": "stdout",
     "output_type": "stream",
     "text": [
      "Успешный запрос!\n",
      "{\n",
      "  \"field1\": \"value1\",\n",
      "  \"field2\": \"value2\",\n",
      "  \"id\": 1\n",
      "}\n"
     ]
    }
   ],
   "source": [
    "payload = {\"field1\": \"value1\", \"field2\": \"value2\"}\n",
    "response = requests.put(\"https://jsonplaceholder.typicode.com/posts/1\", json=payload)\n",
    "\n",
    "# проверка успешности выполнения запроса\n",
    "if response.status_code == 200:\n",
    "    print(\"Успешный запрос!\")\n",
    "    # вывод текста ответа\n",
    "    print(response.text)\n",
    "else:\n",
    "    print(\"Запрос не удался с кодом состояния:\", response.status_code)"
   ]
  },
  {
   "cell_type": "code",
   "execution_count": 8,
   "metadata": {},
   "outputs": [
    {
     "name": "stdout",
     "output_type": "stream",
     "text": [
      "Успешный запрос!\n",
      "{}\n"
     ]
    }
   ],
   "source": [
    "# Использование метода requests.delete() для отправки запроса DELETE для удаления данных\n",
    "\n",
    "response = requests.delete(\"https://jsonplaceholder.typicode.com/posts/1\")\n",
    "\n",
    "# проверка успешности выполнения запроса\n",
    "if response.status_code == 200:\n",
    "    print(\"Успешный запрос!\")\n",
    "    # вывод текста ответа\n",
    "    print(response.text)\n",
    "else:\n",
    "    print(\"Запрос не удался с кодом состояния:\", response.status_code)"
   ]
  }
 ],
 "metadata": {
  "kernelspec": {
   "display_name": "base",
   "language": "python",
   "name": "python3"
  },
  "language_info": {
   "codemirror_mode": {
    "name": "ipython",
    "version": 3
   },
   "file_extension": ".py",
   "mimetype": "text/x-python",
   "name": "python",
   "nbconvert_exporter": "python",
   "pygments_lexer": "ipython3",
   "version": "3.12.2"
  }
 },
 "nbformat": 4,
 "nbformat_minor": 2
}
