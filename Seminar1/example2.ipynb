{
 "cells": [
  {
   "cell_type": "code",
   "execution_count": 28,
   "metadata": {},
   "outputs": [],
   "source": [
    "import requests\n",
    "import json\n",
    "import pandas as pd"
   ]
  },
  {
   "cell_type": "code",
   "execution_count": 29,
   "metadata": {},
   "outputs": [],
   "source": [
    "# Ваши учетные данные API\n",
    "client_id = \"__\"\n",
    "client_secret = \"__\"\n",
    "\n",
    "# Конечная точка API\n",
    "endpoint = \"https://api.foursquare.com/v3/places/search\""
   ]
  },
  {
   "cell_type": "code",
   "execution_count": 30,
   "metadata": {},
   "outputs": [],
   "source": [
    "# Определение параметров для запроса API\n",
    "city = input(\"Введите название города: \")\n",
    "restaurant = input(\"Введите тип заведения: \")\n",
    "params = {\n",
    "    \"client_id\": client_id,\n",
    "    \"client_secret\": client_secret,\n",
    "    \"near\": city,\n",
    "    \"query\": \"restaurant\"\n",
    "}\n",
    "\n",
    "headers = {\n",
    "    \"Accept\": \"application/json\",\n",
    "    \"Authorization\": \"fsq3V3AFHzvqod5PVkb9j5ptfec29VfLTGG2XbHrQEGC8bI=\"\n",
    "}"
   ]
  },
  {
   "cell_type": "code",
   "execution_count": 31,
   "metadata": {},
   "outputs": [
    {
     "name": "stdout",
     "output_type": "stream",
     "text": [
      "Успешный запрос API!\n",
      "Название: Flat Iron\n",
      "Адрес: 17-18 Henrietta St\n",
      "\n",
      "\n",
      "Название: Dishoom\n",
      "Адрес: 12 Upper St Martin’s Lane\n",
      "\n",
      "\n",
      "Название: SUSHISAMBA Covent Garden\n",
      "Адрес: 35 The Market\n",
      "\n",
      "\n",
      "Название: Arôme Bakery\n",
      "Адрес: 9 Mercer St\n",
      "\n",
      "\n",
      "Название: Ole & Steen\n",
      "Адрес: St James\n",
      "\n",
      "\n",
      "Название: The Century Kitchen\n",
      "Адрес: 63 Shaftesbury Ave\n",
      "\n",
      "\n",
      "Название: Flat Iron\n",
      "Адрес: 17 Beak St\n",
      "\n",
      "\n",
      "Название: Kingly Court\n",
      "Адрес: Kingly Ct\n",
      "\n",
      "\n",
      "Название: Dishoom Carnaby\n",
      "Адрес: 22 Kingly St\n",
      "\n",
      "\n",
      "Название: Gymkhana\n",
      "Адрес: 42 Albemarle St\n",
      "\n",
      "\n"
     ]
    }
   ],
   "source": [
    "# Отправка запроса API и получение ответа\n",
    "response = requests.get(endpoint, params=params,headers=headers)\n",
    "\n",
    "# Проверка успешности запроса API\n",
    "if response.status_code == 200:\n",
    "    print(\"Успешный запрос API!\")\n",
    "    data = json.loads(response.text)\n",
    "    venues = data[\"results\"]\n",
    "    for venue in venues:\n",
    "        print(\"Название:\", venue[\"name\"])\n",
    "        try:\n",
    "            address = venue[\"location\"][\"address\"]\n",
    "        except KeyError:\n",
    "            address = \"Адрес не указан\"\n",
    "        print(\"Адрес:\", address)\n",
    "        print(\"\\n\")\n",
    "        df = pd.concat([df, pd.DataFrame([{'Название': venue[\"name\"], 'Адрес': address}])], ignore_index=True)\n",
    "\n",
    "\n",
    "else:\n",
    "    print(\"Запрос API завершился неудачей с кодом состояния:\", response.status_code)\n",
    "    print(response.text)\n"
   ]
  },
  {
   "cell_type": "code",
   "execution_count": 32,
   "metadata": {},
   "outputs": [
    {
     "data": {
      "text/html": [
       "<div>\n",
       "<style scoped>\n",
       "    .dataframe tbody tr th:only-of-type {\n",
       "        vertical-align: middle;\n",
       "    }\n",
       "\n",
       "    .dataframe tbody tr th {\n",
       "        vertical-align: top;\n",
       "    }\n",
       "\n",
       "    .dataframe thead th {\n",
       "        text-align: right;\n",
       "    }\n",
       "</style>\n",
       "<table border=\"1\" class=\"dataframe\">\n",
       "  <thead>\n",
       "    <tr style=\"text-align: right;\">\n",
       "      <th></th>\n",
       "      <th>Название</th>\n",
       "      <th>Адрес</th>\n",
       "    </tr>\n",
       "  </thead>\n",
       "  <tbody>\n",
       "    <tr>\n",
       "      <th>0</th>\n",
       "      <td>Flat Iron</td>\n",
       "      <td>17-18 Henrietta St</td>\n",
       "    </tr>\n",
       "    <tr>\n",
       "      <th>1</th>\n",
       "      <td>Dishoom</td>\n",
       "      <td>12 Upper St Martin’s Lane</td>\n",
       "    </tr>\n",
       "    <tr>\n",
       "      <th>2</th>\n",
       "      <td>SUSHISAMBA Covent Garden</td>\n",
       "      <td>35 The Market</td>\n",
       "    </tr>\n",
       "    <tr>\n",
       "      <th>3</th>\n",
       "      <td>Arôme Bakery</td>\n",
       "      <td>9 Mercer St</td>\n",
       "    </tr>\n",
       "    <tr>\n",
       "      <th>4</th>\n",
       "      <td>Ole &amp; Steen</td>\n",
       "      <td>St James</td>\n",
       "    </tr>\n",
       "  </tbody>\n",
       "</table>\n",
       "</div>"
      ],
      "text/plain": [
       "                   Название                      Адрес\n",
       "0                 Flat Iron         17-18 Henrietta St\n",
       "1                   Dishoom  12 Upper St Martin’s Lane\n",
       "2  SUSHISAMBA Covent Garden              35 The Market\n",
       "3              Arôme Bakery                9 Mercer St\n",
       "4               Ole & Steen                   St James"
      ]
     },
     "execution_count": 32,
     "metadata": {},
     "output_type": "execute_result"
    }
   ],
   "source": [
    "df.head()"
   ]
  }
 ],
 "metadata": {
  "kernelspec": {
   "display_name": "base",
   "language": "python",
   "name": "python3"
  },
  "language_info": {
   "codemirror_mode": {
    "name": "ipython",
    "version": 3
   },
   "file_extension": ".py",
   "mimetype": "text/x-python",
   "name": "python",
   "nbconvert_exporter": "python",
   "pygments_lexer": "ipython3",
   "version": "3.12.1"
  }
 },
 "nbformat": 4,
 "nbformat_minor": 2
}
