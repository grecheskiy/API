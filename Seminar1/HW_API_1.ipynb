{
 "cells": [
  {
   "cell_type": "code",
   "execution_count": 21,
   "metadata": {},
   "outputs": [],
   "source": [
    "import requests\n",
    "import json\n",
    "import pandas as pd"
   ]
  },
  {
   "cell_type": "code",
   "execution_count": 22,
   "metadata": {},
   "outputs": [],
   "source": [
    "# Ваши учетные данные API\n",
    "client_id = \"__\"\n",
    "client_secret = \"__\"\n",
    "\n",
    "# Конечная точка API\n",
    "endpoint = \"https://api.spoonacular.com/recipes/complexSearch\""
   ]
  },
  {
   "cell_type": "code",
   "execution_count": 23,
   "metadata": {},
   "outputs": [],
   "source": [
    "# Определение параметров для запроса API\n",
    "query = input(\"Введите название города: \")\n",
    "params = {\n",
    "    \"apiKey\": client_id,\n",
    "    \"query\": \"pasta\"\n",
    "}\n",
    "\n",
    "headers = {\n",
    "    \"Accept\": \"application/json\",\n",
    "    \"Authorization\": \"4dd2abf2b09a46d38e04a135360d992a=\"\n",
    "}"
   ]
  },
  {
   "cell_type": "code",
   "execution_count": 24,
   "metadata": {},
   "outputs": [],
   "source": [
    "# Отправка запроса API и получение ответа\n",
    "response = requests.get(endpoint, params=params,headers=headers)\n",
    "\n",
    "# Проверка успешности запроса API\n",
    "if response.status_code == 200:\n",
    "    print(\"Успешный запрос API!\")\n",
    "    jdata =response.json()\n",
    "    print(jdata)\n",
    "    print(\"Рецепт: \")\n",
    "    print(jdata['instructions'])\n",
    "    print('\\n\\n')"
   ]
  }
 ],
 "metadata": {
  "kernelspec": {
   "display_name": "base",
   "language": "python",
   "name": "python3"
  },
  "language_info": {
   "codemirror_mode": {
    "name": "ipython",
    "version": 3
   },
   "file_extension": ".py",
   "mimetype": "text/x-python",
   "name": "python",
   "nbconvert_exporter": "python",
   "pygments_lexer": "ipython3",
   "version": "3.12.2"
  }
 },
 "nbformat": 4,
 "nbformat_minor": 2
}
