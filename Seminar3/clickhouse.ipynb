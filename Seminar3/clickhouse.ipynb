{
 "cells": [
  {
   "cell_type": "code",
   "execution_count": 57,
   "id": "b433ead3",
   "metadata": {},
   "outputs": [],
   "source": [
    "#!pip install docker"
   ]
  },
  {
   "cell_type": "code",
   "execution_count": 58,
   "id": "5f0679c2",
   "metadata": {},
   "outputs": [],
   "source": [
    "#!pip install clickhouse_driver"
   ]
  },
  {
   "cell_type": "code",
   "execution_count": 59,
   "id": "fe625436",
   "metadata": {},
   "outputs": [],
   "source": [
    "#!docker run -d --name clickhouse-server --ulimit nofile=262144:262144 -p 9000:9000 yandex/clickhouse-server"
   ]
  },
  {
   "cell_type": "code",
   "execution_count": 60,
   "id": "7f8a5544",
   "metadata": {},
   "outputs": [
    {
     "name": "stdout",
     "output_type": "stream",
     "text": [
      "[('trips',)]\n"
     ]
    }
   ],
   "source": [
    "from clickhouse_driver import Client\n",
    "\n",
    "client = Client(host='localhost',  # Use 'localhost' or '127.0.0.1' for a local server\n",
    "                user='default',    # Default user, adjust if you've changed the user\n",
    "                password='',       # Default installation has no password for 'default' user\n",
    "                port=9000)         # Default TCP port for ClickHouse\n",
    "\n",
    "# Attempt to execute a query\n",
    "try:\n",
    "    result = client.execute('SHOW TABLES')\n",
    "    print(result)\n",
    "except Exception as e:\n",
    "    print(f\"Encountered an error: {e}\")"
   ]
  },
  {
   "cell_type": "code",
   "execution_count": 61,
   "id": "b6d5a7ee",
   "metadata": {},
   "outputs": [
    {
     "data": {
      "text/plain": [
       "[('trips',)]"
      ]
     },
     "execution_count": 61,
     "metadata": {},
     "output_type": "execute_result"
    }
   ],
   "source": [
    "client.execute('SHOW TABLES')"
   ]
  },
  {
   "cell_type": "code",
   "execution_count": 62,
   "id": "7504821b",
   "metadata": {},
   "outputs": [
    {
     "data": {
      "text/plain": [
       "[]"
      ]
     },
     "execution_count": 62,
     "metadata": {},
     "output_type": "execute_result"
    }
   ],
   "source": [
    "client.execute(\n",
    "'''\n",
    "CREATE TABLE trips_2\n",
    "(\n",
    "    `trip_id` UInt32,\n",
    "    `vendor_id` Enum8('1' = 1, '2' = 2, '3' = 3, '4' = 4, 'CMT' = 5, 'VTS' = 6, 'DDS' = 7, 'B02512' = 10, 'B02598' = 11, 'B02617' = 12, 'B02682' = 13, 'B02764' = 14, '' = 15),\n",
    "    `pickup_date` Date,\n",
    "    `pickup_datetime` DateTime,\n",
    "    `dropoff_date` Date,\n",
    "    `dropoff_datetime` DateTime,\n",
    "    `store_and_fwd_flag` UInt8,\n",
    "    `rate_code_id` UInt8,\n",
    "    `pickup_longitude` Float64,\n",
    "    `pickup_latitude` Float64,\n",
    "    `dropoff_longitude` Float64,\n",
    "    `dropoff_latitude` Float64,\n",
    "    `passenger_count` UInt8,\n",
    "    `trip_distance` Float64,\n",
    "    `fare_amount` Float32,\n",
    "    `extra` Float32,\n",
    "    `mta_tax` Float32,\n",
    "    `tip_amount` Float32,\n",
    "    `tolls_amount` Float32,\n",
    "    `ehail_fee` Float32,\n",
    "    `improvement_surcharge` Float32,\n",
    "    `total_amount` Float32,\n",
    "    `payment_type` Enum8('UNK' = 0, 'CSH' = 1, 'CRE' = 2, 'NOC' = 3, 'DIS' = 4),\n",
    "    `trip_type` UInt8,\n",
    "    `pickup` FixedString(25),\n",
    "    `dropoff` FixedString(25),\n",
    "    `cab_type` Enum8('yellow' = 1, 'green' = 2, 'uber' = 3),\n",
    "    `pickup_nyct2010_gid` Int8,\n",
    "    `pickup_ctlabel` Float32,\n",
    "    `pickup_borocode` Int8,\n",
    "    `pickup_ct2010` String,\n",
    "    `pickup_boroct2010` String,\n",
    "    `pickup_cdeligibil` String,\n",
    "    `pickup_ntacode` FixedString(4),\n",
    "    `pickup_ntaname` String,\n",
    "    `pickup_puma` UInt16,\n",
    "    `dropoff_nyct2010_gid` UInt8,\n",
    "    `dropoff_ctlabel` Float32,\n",
    "    `dropoff_borocode` UInt8,\n",
    "    `dropoff_ct2010` String,\n",
    "    `dropoff_boroct2010` String,\n",
    "    `dropoff_cdeligibil` String,\n",
    "    `dropoff_ntacode` FixedString(4),\n",
    "    `dropoff_ntaname` String,\n",
    "    `dropoff_puma` UInt16\n",
    ")\n",
    "ENGINE = MergeTree\n",
    "PARTITION BY toYYYYMM(pickup_date)\n",
    "ORDER BY pickup_datetime;\n",
    "'''\n",
    ")"
   ]
  },
  {
   "cell_type": "code",
   "execution_count": 63,
   "id": "96ba8f84",
   "metadata": {},
   "outputs": [
    {
     "data": {
      "text/plain": [
       "[('trips',), ('trips_2',)]"
      ]
     },
     "execution_count": 63,
     "metadata": {},
     "output_type": "execute_result"
    }
   ],
   "source": [
    "client.execute('SHOW TABLES')"
   ]
  },
  {
   "cell_type": "code",
   "execution_count": 64,
   "id": "a6f0f55e",
   "metadata": {},
   "outputs": [
    {
     "data": {
      "text/plain": [
       "[]"
      ]
     },
     "execution_count": 64,
     "metadata": {},
     "output_type": "execute_result"
    }
   ],
   "source": [
    "client.execute(\n",
    "'''\n",
    "INSERT INTO trips\n",
    "SELECT * FROM s3(\n",
    "    'https://datasets-documentation.s3.eu-west-3.amazonaws.com/nyc-taxi/trips_{1..2}.gz',\n",
    "    'TabSeparatedWithNames', \"\n",
    "    `trip_id` UInt32,\n",
    "    `vendor_id` Enum8('1' = 1, '2' = 2, '3' = 3, '4' = 4, 'CMT' = 5, 'VTS' = 6, 'DDS' = 7, 'B02512' = 10, 'B02598' = 11, 'B02617' = 12, 'B02682' = 13, 'B02764' = 14, '' = 15),\n",
    "    `pickup_date` Date,\n",
    "    `pickup_datetime` DateTime,\n",
    "    `dropoff_date` Date,\n",
    "    `dropoff_datetime` DateTime,\n",
    "    `store_and_fwd_flag` UInt8,\n",
    "    `rate_code_id` UInt8,\n",
    "    `pickup_longitude` Float64,\n",
    "    `pickup_latitude` Float64,\n",
    "    `dropoff_longitude` Float64,\n",
    "    `dropoff_latitude` Float64,\n",
    "    `passenger_count` UInt8,\n",
    "    `trip_distance` Float64,\n",
    "    `fare_amount` Float32,\n",
    "    `extra` Float32,\n",
    "    `mta_tax` Float32,\n",
    "    `tip_amount` Float32,\n",
    "    `tolls_amount` Float32,\n",
    "    `ehail_fee` Float32,\n",
    "    `improvement_surcharge` Float32,\n",
    "    `total_amount` Float32,\n",
    "    `payment_type` Enum8('UNK' = 0, 'CSH' = 1, 'CRE' = 2, 'NOC' = 3, 'DIS' = 4),\n",
    "    `trip_type` UInt8,\n",
    "    `pickup` FixedString(25),\n",
    "    `dropoff` FixedString(25),\n",
    "    `cab_type` Enum8('yellow' = 1, 'green' = 2, 'uber' = 3),\n",
    "    `pickup_nyct2010_gid` Int8,\n",
    "    `pickup_ctlabel` Float32,\n",
    "    `pickup_borocode` Int8,\n",
    "    `pickup_ct2010` String,\n",
    "    `pickup_boroct2010` String,\n",
    "    `pickup_cdeligibil` String,\n",
    "    `pickup_ntacode` FixedString(4),\n",
    "    `pickup_ntaname` String,\n",
    "    `pickup_puma` UInt16,\n",
    "    `dropoff_nyct2010_gid` UInt8,\n",
    "    `dropoff_ctlabel` Float32,\n",
    "    `dropoff_borocode` UInt8,\n",
    "    `dropoff_ct2010` String,\n",
    "    `dropoff_boroct2010` String,\n",
    "    `dropoff_cdeligibil` String,\n",
    "    `dropoff_ntacode` FixedString(4),\n",
    "    `dropoff_ntaname` String,\n",
    "    `dropoff_puma` UInt16\n",
    "\")\n",
    "'''\n",
    ")"
   ]
  },
  {
   "cell_type": "code",
   "execution_count": 65,
   "id": "3df1dce5",
   "metadata": {},
   "outputs": [
    {
     "data": {
      "text/plain": [
       "[('trips',), ('trips_2',)]"
      ]
     },
     "execution_count": 65,
     "metadata": {},
     "output_type": "execute_result"
    }
   ],
   "source": [
    "client.execute('SHOW TABLES')"
   ]
  },
  {
   "cell_type": "code",
   "execution_count": 66,
   "id": "3808ee71",
   "metadata": {},
   "outputs": [
    {
     "data": {
      "text/plain": [
       "[(5998971,)]"
      ]
     },
     "execution_count": 66,
     "metadata": {},
     "output_type": "execute_result"
    }
   ],
   "source": [
    "client.execute(\"SELECT count() FROM trips\")"
   ]
  },
  {
   "cell_type": "code",
   "execution_count": 67,
   "id": "d8853abd",
   "metadata": {},
   "outputs": [
    {
     "name": "stdout",
     "output_type": "stream",
     "text": [
      "[(1.68,)]\n"
     ]
    }
   ],
   "source": [
    "tip_amount = client.execute(\"SELECT round(avg(tip_amount), 2) FROM trips\")  \n",
    "print(tip_amount)"
   ]
  },
  {
   "cell_type": "code",
   "execution_count": 68,
   "id": "b33a266f",
   "metadata": {},
   "outputs": [
    {
     "data": {
      "text/plain": [
       "list"
      ]
     },
     "execution_count": 68,
     "metadata": {},
     "output_type": "execute_result"
    }
   ],
   "source": [
    "type(tip_amount)"
   ]
  },
  {
   "cell_type": "code",
   "execution_count": 69,
   "id": "8c49efc8",
   "metadata": {},
   "outputs": [
    {
     "data": {
      "text/plain": [
       "1.68"
      ]
     },
     "execution_count": 69,
     "metadata": {},
     "output_type": "execute_result"
    }
   ],
   "source": [
    "tip_amount[0][0]"
   ]
  },
  {
   "cell_type": "code",
   "execution_count": 70,
   "id": "08319d8d",
   "metadata": {},
   "outputs": [],
   "source": [
    "avg_price = client.execute(\n",
    "'''\n",
    "SELECT\n",
    "    passenger_count,\n",
    "    ceil(avg(total_amount),2) AS average_total_amount\n",
    "FROM trips\n",
    "GROUP BY passenger_count\n",
    "'''\n",
    ")"
   ]
  },
  {
   "cell_type": "code",
   "execution_count": 71,
   "id": "860285a9",
   "metadata": {},
   "outputs": [],
   "source": [
    "import pandas as pd"
   ]
  },
  {
   "cell_type": "code",
   "execution_count": 72,
   "id": "9af81d2b",
   "metadata": {},
   "outputs": [],
   "source": [
    "df = pd.DataFrame(avg_price, columns=(\"passenger_count\", \"average_total_amount\"))"
   ]
  },
  {
   "cell_type": "code",
   "execution_count": 73,
   "id": "ef12f98b",
   "metadata": {},
   "outputs": [
    {
     "data": {
      "text/html": [
       "<div>\n",
       "<style scoped>\n",
       "    .dataframe tbody tr th:only-of-type {\n",
       "        vertical-align: middle;\n",
       "    }\n",
       "\n",
       "    .dataframe tbody tr th {\n",
       "        vertical-align: top;\n",
       "    }\n",
       "\n",
       "    .dataframe thead th {\n",
       "        text-align: right;\n",
       "    }\n",
       "</style>\n",
       "<table border=\"1\" class=\"dataframe\">\n",
       "  <thead>\n",
       "    <tr style=\"text-align: right;\">\n",
       "      <th></th>\n",
       "      <th>passenger_count</th>\n",
       "      <th>average_total_amount</th>\n",
       "    </tr>\n",
       "  </thead>\n",
       "  <tbody>\n",
       "    <tr>\n",
       "      <th>0</th>\n",
       "      <td>0</td>\n",
       "      <td>22.69</td>\n",
       "    </tr>\n",
       "    <tr>\n",
       "      <th>1</th>\n",
       "      <td>1</td>\n",
       "      <td>15.97</td>\n",
       "    </tr>\n",
       "    <tr>\n",
       "      <th>2</th>\n",
       "      <td>2</td>\n",
       "      <td>17.15</td>\n",
       "    </tr>\n",
       "    <tr>\n",
       "      <th>3</th>\n",
       "      <td>3</td>\n",
       "      <td>16.76</td>\n",
       "    </tr>\n",
       "    <tr>\n",
       "      <th>4</th>\n",
       "      <td>4</td>\n",
       "      <td>17.33</td>\n",
       "    </tr>\n",
       "    <tr>\n",
       "      <th>5</th>\n",
       "      <td>5</td>\n",
       "      <td>16.35</td>\n",
       "    </tr>\n",
       "    <tr>\n",
       "      <th>6</th>\n",
       "      <td>6</td>\n",
       "      <td>16.04</td>\n",
       "    </tr>\n",
       "    <tr>\n",
       "      <th>7</th>\n",
       "      <td>7</td>\n",
       "      <td>59.80</td>\n",
       "    </tr>\n",
       "    <tr>\n",
       "      <th>8</th>\n",
       "      <td>8</td>\n",
       "      <td>36.41</td>\n",
       "    </tr>\n",
       "    <tr>\n",
       "      <th>9</th>\n",
       "      <td>9</td>\n",
       "      <td>9.81</td>\n",
       "    </tr>\n",
       "  </tbody>\n",
       "</table>\n",
       "</div>"
      ],
      "text/plain": [
       "   passenger_count  average_total_amount\n",
       "0                0                 22.69\n",
       "1                1                 15.97\n",
       "2                2                 17.15\n",
       "3                3                 16.76\n",
       "4                4                 17.33\n",
       "5                5                 16.35\n",
       "6                6                 16.04\n",
       "7                7                 59.80\n",
       "8                8                 36.41\n",
       "9                9                  9.81"
      ]
     },
     "execution_count": 73,
     "metadata": {},
     "output_type": "execute_result"
    }
   ],
   "source": [
    "df"
   ]
  },
  {
   "cell_type": "code",
   "execution_count": 74,
   "id": "9a5a87d7",
   "metadata": {},
   "outputs": [],
   "source": [
    "pickup_num = client.execute(\n",
    "'''\n",
    "SELECT\n",
    "    pickup_date,\n",
    "    pickup_ntaname,\n",
    "    SUM(1) AS number_of_trips\n",
    "FROM trips\n",
    "GROUP BY pickup_date, pickup_ntaname\n",
    "ORDER BY pickup_date ASC\n",
    "'''\n",
    ")"
   ]
  },
  {
   "cell_type": "code",
   "execution_count": 75,
   "id": "202fc249",
   "metadata": {},
   "outputs": [
    {
     "data": {
      "text/html": [
       "<div>\n",
       "<style scoped>\n",
       "    .dataframe tbody tr th:only-of-type {\n",
       "        vertical-align: middle;\n",
       "    }\n",
       "\n",
       "    .dataframe tbody tr th {\n",
       "        vertical-align: top;\n",
       "    }\n",
       "\n",
       "    .dataframe thead th {\n",
       "        text-align: right;\n",
       "    }\n",
       "</style>\n",
       "<table border=\"1\" class=\"dataframe\">\n",
       "  <thead>\n",
       "    <tr style=\"text-align: right;\">\n",
       "      <th></th>\n",
       "      <th>pickup_date</th>\n",
       "      <th>pickup_ntaname</th>\n",
       "      <th>number_of_trips</th>\n",
       "    </tr>\n",
       "  </thead>\n",
       "  <tbody>\n",
       "    <tr>\n",
       "      <th>0</th>\n",
       "      <td>2015-07-01</td>\n",
       "      <td>Brooklyn Heights-Cobble Hill</td>\n",
       "      <td>39</td>\n",
       "    </tr>\n",
       "    <tr>\n",
       "      <th>1</th>\n",
       "      <td>2015-07-01</td>\n",
       "      <td>Old Astoria</td>\n",
       "      <td>15</td>\n",
       "    </tr>\n",
       "    <tr>\n",
       "      <th>2</th>\n",
       "      <td>2015-07-01</td>\n",
       "      <td>Flushing</td>\n",
       "      <td>3</td>\n",
       "    </tr>\n",
       "    <tr>\n",
       "      <th>3</th>\n",
       "      <td>2015-07-01</td>\n",
       "      <td>Yorkville</td>\n",
       "      <td>1134</td>\n",
       "    </tr>\n",
       "    <tr>\n",
       "      <th>4</th>\n",
       "      <td>2015-07-01</td>\n",
       "      <td>Gramercy</td>\n",
       "      <td>1032</td>\n",
       "    </tr>\n",
       "    <tr>\n",
       "      <th>...</th>\n",
       "      <td>...</td>\n",
       "      <td>...</td>\n",
       "      <td>...</td>\n",
       "    </tr>\n",
       "    <tr>\n",
       "      <th>8746</th>\n",
       "      <td>2015-09-30</td>\n",
       "      <td>Hollis</td>\n",
       "      <td>3</td>\n",
       "    </tr>\n",
       "    <tr>\n",
       "      <th>8747</th>\n",
       "      <td>2015-09-30</td>\n",
       "      <td>Claremont-Bathgate</td>\n",
       "      <td>3</td>\n",
       "    </tr>\n",
       "    <tr>\n",
       "      <th>8748</th>\n",
       "      <td>2015-09-30</td>\n",
       "      <td>Turtle Bay-East Midtown</td>\n",
       "      <td>3180</td>\n",
       "    </tr>\n",
       "    <tr>\n",
       "      <th>8749</th>\n",
       "      <td>2015-09-30</td>\n",
       "      <td>East New York (Pennsylvania Ave)</td>\n",
       "      <td>3</td>\n",
       "    </tr>\n",
       "    <tr>\n",
       "      <th>8750</th>\n",
       "      <td>2015-09-30</td>\n",
       "      <td>Windsor Terrace</td>\n",
       "      <td>3</td>\n",
       "    </tr>\n",
       "  </tbody>\n",
       "</table>\n",
       "<p>8751 rows × 3 columns</p>\n",
       "</div>"
      ],
      "text/plain": [
       "     pickup_date                    pickup_ntaname  number_of_trips\n",
       "0     2015-07-01      Brooklyn Heights-Cobble Hill               39\n",
       "1     2015-07-01                       Old Astoria               15\n",
       "2     2015-07-01                          Flushing                3\n",
       "3     2015-07-01                         Yorkville             1134\n",
       "4     2015-07-01                          Gramercy             1032\n",
       "...          ...                               ...              ...\n",
       "8746  2015-09-30                            Hollis                3\n",
       "8747  2015-09-30                Claremont-Bathgate                3\n",
       "8748  2015-09-30           Turtle Bay-East Midtown             3180\n",
       "8749  2015-09-30  East New York (Pennsylvania Ave)                3\n",
       "8750  2015-09-30                   Windsor Terrace                3\n",
       "\n",
       "[8751 rows x 3 columns]"
      ]
     },
     "execution_count": 75,
     "metadata": {},
     "output_type": "execute_result"
    }
   ],
   "source": [
    "df = pd.DataFrame(pickup_num, columns=(\"pickup_date\", \"pickup_ntaname\", \"number_of_trips\"))\n",
    "df"
   ]
  },
  {
   "cell_type": "code",
   "execution_count": 76,
   "id": "3bbc8896",
   "metadata": {},
   "outputs": [],
   "source": [
    "trip_minutes = client.execute(\n",
    "'''\n",
    "SELECT\n",
    "    avg(tip_amount) AS avg_tip,\n",
    "    avg(fare_amount) AS avg_fare,\n",
    "    avg(passenger_count) AS avg_passenger,\n",
    "    count() AS count,\n",
    "    truncate(date_diff('second', pickup_datetime, dropoff_datetime)/3600) as trip_minutes\n",
    "FROM trips\n",
    "WHERE trip_minutes > 0\n",
    "GROUP BY trip_minutes\n",
    "ORDER BY trip_minutes DESC\n",
    "'''\n",
    ")"
   ]
  },
  {
   "cell_type": "code",
   "execution_count": 77,
   "id": "d47682e2",
   "metadata": {},
   "outputs": [
    {
     "data": {
      "text/html": [
       "<div>\n",
       "<style scoped>\n",
       "    .dataframe tbody tr th:only-of-type {\n",
       "        vertical-align: middle;\n",
       "    }\n",
       "\n",
       "    .dataframe tbody tr th {\n",
       "        vertical-align: top;\n",
       "    }\n",
       "\n",
       "    .dataframe thead th {\n",
       "        text-align: right;\n",
       "    }\n",
       "</style>\n",
       "<table border=\"1\" class=\"dataframe\">\n",
       "  <thead>\n",
       "    <tr style=\"text-align: right;\">\n",
       "      <th></th>\n",
       "      <th>avg_tip</th>\n",
       "      <th>avg_fare</th>\n",
       "      <th>avg_passenger</th>\n",
       "      <th>count</th>\n",
       "      <th>trip_minutes</th>\n",
       "    </tr>\n",
       "  </thead>\n",
       "  <tbody>\n",
       "    <tr>\n",
       "      <th>0</th>\n",
       "      <td>0.980000</td>\n",
       "      <td>10.000000</td>\n",
       "      <td>1.500000</td>\n",
       "      <td>6</td>\n",
       "      <td>458.0</td>\n",
       "    </tr>\n",
       "    <tr>\n",
       "      <th>1</th>\n",
       "      <td>1.182368</td>\n",
       "      <td>14.493378</td>\n",
       "      <td>2.060201</td>\n",
       "      <td>4485</td>\n",
       "      <td>23.0</td>\n",
       "    </tr>\n",
       "    <tr>\n",
       "      <th>2</th>\n",
       "      <td>2.115957</td>\n",
       "      <td>23.228723</td>\n",
       "      <td>2.468085</td>\n",
       "      <td>141</td>\n",
       "      <td>22.0</td>\n",
       "    </tr>\n",
       "    <tr>\n",
       "      <th>3</th>\n",
       "      <td>1.121818</td>\n",
       "      <td>13.681818</td>\n",
       "      <td>1.909091</td>\n",
       "      <td>33</td>\n",
       "      <td>21.0</td>\n",
       "    </tr>\n",
       "    <tr>\n",
       "      <th>4</th>\n",
       "      <td>0.321818</td>\n",
       "      <td>18.045455</td>\n",
       "      <td>2.363636</td>\n",
       "      <td>33</td>\n",
       "      <td>20.0</td>\n",
       "    </tr>\n",
       "    <tr>\n",
       "      <th>5</th>\n",
       "      <td>2.149000</td>\n",
       "      <td>17.550000</td>\n",
       "      <td>1.500000</td>\n",
       "      <td>30</td>\n",
       "      <td>19.0</td>\n",
       "    </tr>\n",
       "    <tr>\n",
       "      <th>6</th>\n",
       "      <td>4.537059</td>\n",
       "      <td>37.000000</td>\n",
       "      <td>1.764706</td>\n",
       "      <td>51</td>\n",
       "      <td>18.0</td>\n",
       "    </tr>\n",
       "    <tr>\n",
       "      <th>7</th>\n",
       "      <td>1.425000</td>\n",
       "      <td>30.388462</td>\n",
       "      <td>1.423077</td>\n",
       "      <td>78</td>\n",
       "      <td>17.0</td>\n",
       "    </tr>\n",
       "    <tr>\n",
       "      <th>8</th>\n",
       "      <td>1.770500</td>\n",
       "      <td>20.050000</td>\n",
       "      <td>2.200000</td>\n",
       "      <td>60</td>\n",
       "      <td>16.0</td>\n",
       "    </tr>\n",
       "    <tr>\n",
       "      <th>9</th>\n",
       "      <td>1.490870</td>\n",
       "      <td>22.782609</td>\n",
       "      <td>2.130435</td>\n",
       "      <td>69</td>\n",
       "      <td>15.0</td>\n",
       "    </tr>\n",
       "    <tr>\n",
       "      <th>10</th>\n",
       "      <td>1.441579</td>\n",
       "      <td>23.210000</td>\n",
       "      <td>2.315789</td>\n",
       "      <td>57</td>\n",
       "      <td>14.0</td>\n",
       "    </tr>\n",
       "    <tr>\n",
       "      <th>11</th>\n",
       "      <td>7.708461</td>\n",
       "      <td>27.576923</td>\n",
       "      <td>1.769231</td>\n",
       "      <td>39</td>\n",
       "      <td>13.0</td>\n",
       "    </tr>\n",
       "    <tr>\n",
       "      <th>12</th>\n",
       "      <td>2.814444</td>\n",
       "      <td>23.072222</td>\n",
       "      <td>1.944444</td>\n",
       "      <td>54</td>\n",
       "      <td>12.0</td>\n",
       "    </tr>\n",
       "    <tr>\n",
       "      <th>13</th>\n",
       "      <td>2.031333</td>\n",
       "      <td>17.733333</td>\n",
       "      <td>1.933333</td>\n",
       "      <td>45</td>\n",
       "      <td>11.0</td>\n",
       "    </tr>\n",
       "    <tr>\n",
       "      <th>14</th>\n",
       "      <td>1.736000</td>\n",
       "      <td>22.275000</td>\n",
       "      <td>2.300000</td>\n",
       "      <td>60</td>\n",
       "      <td>10.0</td>\n",
       "    </tr>\n",
       "    <tr>\n",
       "      <th>15</th>\n",
       "      <td>1.960556</td>\n",
       "      <td>32.486111</td>\n",
       "      <td>2.305556</td>\n",
       "      <td>108</td>\n",
       "      <td>9.0</td>\n",
       "    </tr>\n",
       "    <tr>\n",
       "      <th>16</th>\n",
       "      <td>1.963478</td>\n",
       "      <td>25.608696</td>\n",
       "      <td>1.913043</td>\n",
       "      <td>69</td>\n",
       "      <td>8.0</td>\n",
       "    </tr>\n",
       "    <tr>\n",
       "      <th>17</th>\n",
       "      <td>2.581250</td>\n",
       "      <td>26.041667</td>\n",
       "      <td>1.583333</td>\n",
       "      <td>72</td>\n",
       "      <td>7.0</td>\n",
       "    </tr>\n",
       "    <tr>\n",
       "      <th>18</th>\n",
       "      <td>1.550645</td>\n",
       "      <td>22.838710</td>\n",
       "      <td>2.225806</td>\n",
       "      <td>93</td>\n",
       "      <td>6.0</td>\n",
       "    </tr>\n",
       "    <tr>\n",
       "      <th>19</th>\n",
       "      <td>1.668125</td>\n",
       "      <td>43.468750</td>\n",
       "      <td>2.250000</td>\n",
       "      <td>96</td>\n",
       "      <td>5.0</td>\n",
       "    </tr>\n",
       "    <tr>\n",
       "      <th>20</th>\n",
       "      <td>0.589516</td>\n",
       "      <td>19.252581</td>\n",
       "      <td>0.645161</td>\n",
       "      <td>186</td>\n",
       "      <td>4.0</td>\n",
       "    </tr>\n",
       "    <tr>\n",
       "      <th>21</th>\n",
       "      <td>1.077632</td>\n",
       "      <td>44.263158</td>\n",
       "      <td>1.763158</td>\n",
       "      <td>114</td>\n",
       "      <td>3.0</td>\n",
       "    </tr>\n",
       "    <tr>\n",
       "      <th>22</th>\n",
       "      <td>5.287600</td>\n",
       "      <td>61.835500</td>\n",
       "      <td>1.875000</td>\n",
       "      <td>600</td>\n",
       "      <td>2.0</td>\n",
       "    </tr>\n",
       "    <tr>\n",
       "      <th>23</th>\n",
       "      <td>6.039334</td>\n",
       "      <td>54.977343</td>\n",
       "      <td>1.811057</td>\n",
       "      <td>35217</td>\n",
       "      <td>1.0</td>\n",
       "    </tr>\n",
       "  </tbody>\n",
       "</table>\n",
       "</div>"
      ],
      "text/plain": [
       "     avg_tip   avg_fare  avg_passenger  count  trip_minutes\n",
       "0   0.980000  10.000000       1.500000      6         458.0\n",
       "1   1.182368  14.493378       2.060201   4485          23.0\n",
       "2   2.115957  23.228723       2.468085    141          22.0\n",
       "3   1.121818  13.681818       1.909091     33          21.0\n",
       "4   0.321818  18.045455       2.363636     33          20.0\n",
       "5   2.149000  17.550000       1.500000     30          19.0\n",
       "6   4.537059  37.000000       1.764706     51          18.0\n",
       "7   1.425000  30.388462       1.423077     78          17.0\n",
       "8   1.770500  20.050000       2.200000     60          16.0\n",
       "9   1.490870  22.782609       2.130435     69          15.0\n",
       "10  1.441579  23.210000       2.315789     57          14.0\n",
       "11  7.708461  27.576923       1.769231     39          13.0\n",
       "12  2.814444  23.072222       1.944444     54          12.0\n",
       "13  2.031333  17.733333       1.933333     45          11.0\n",
       "14  1.736000  22.275000       2.300000     60          10.0\n",
       "15  1.960556  32.486111       2.305556    108           9.0\n",
       "16  1.963478  25.608696       1.913043     69           8.0\n",
       "17  2.581250  26.041667       1.583333     72           7.0\n",
       "18  1.550645  22.838710       2.225806     93           6.0\n",
       "19  1.668125  43.468750       2.250000     96           5.0\n",
       "20  0.589516  19.252581       0.645161    186           4.0\n",
       "21  1.077632  44.263158       1.763158    114           3.0\n",
       "22  5.287600  61.835500       1.875000    600           2.0\n",
       "23  6.039334  54.977343       1.811057  35217           1.0"
      ]
     },
     "execution_count": 77,
     "metadata": {},
     "output_type": "execute_result"
    }
   ],
   "source": [
    "df = pd.DataFrame(trip_minutes, columns=(\"avg_tip\", \"avg_fare\", \"avg_passenger\", \"count\", \"trip_minutes\"))\n",
    "df"
   ]
  },
  {
   "cell_type": "code",
   "execution_count": null,
   "id": "93a48c51",
   "metadata": {},
   "outputs": [],
   "source": []
  }
 ],
 "metadata": {
  "kernelspec": {
   "display_name": "Python 3 (ipykernel)",
   "language": "python",
   "name": "python3"
  },
  "language_info": {
   "codemirror_mode": {
    "name": "ipython",
    "version": 3
   },
   "file_extension": ".py",
   "mimetype": "text/x-python",
   "name": "python",
   "nbconvert_exporter": "python",
   "pygments_lexer": "ipython3",
   "version": "3.12.2"
  }
 },
 "nbformat": 4,
 "nbformat_minor": 5
}
